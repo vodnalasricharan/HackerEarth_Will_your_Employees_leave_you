{
  "nbformat": 4,
  "nbformat_minor": 0,
  "metadata": {
    "colab": {
      "name": "HE_Employee_attriation.ipynb",
      "provenance": [],
      "collapsed_sections": [],
      "mount_file_id": "1kNJmlWu3naXV4vLSj6TQ0JVMVROjT1CN",
      "authorship_tag": "ABX9TyPAoWoRgX61VwPDw0Cjt1Ej",
      "include_colab_link": true
    },
    "kernelspec": {
      "name": "python3",
      "display_name": "Python 3"
    },
    "accelerator": "GPU",
    "widgets": {
      "application/vnd.jupyter.widget-state+json": {
        "b2d94a4459f145bf93f52e0b372fb946": {
          "model_module": "@jupyter-widgets/controls",
          "model_name": "HBoxModel",
          "state": {
            "_view_name": "HBoxView",
            "_dom_classes": [],
            "_model_name": "HBoxModel",
            "_view_module": "@jupyter-widgets/controls",
            "_model_module_version": "1.5.0",
            "_view_count": null,
            "_view_module_version": "1.5.0",
            "box_style": "",
            "layout": "IPY_MODEL_f778a38e2b654162b6ccb8b7706f80fd",
            "_model_module": "@jupyter-widgets/controls",
            "children": [
              "IPY_MODEL_16e96aa153d74e86b251a888c12898b2",
              "IPY_MODEL_e67433025f65420487e745e90ff209bc"
            ]
          }
        },
        "f778a38e2b654162b6ccb8b7706f80fd": {
          "model_module": "@jupyter-widgets/base",
          "model_name": "LayoutModel",
          "state": {
            "_view_name": "LayoutView",
            "grid_template_rows": null,
            "right": null,
            "justify_content": null,
            "_view_module": "@jupyter-widgets/base",
            "overflow": null,
            "_model_module_version": "1.2.0",
            "_view_count": null,
            "flex_flow": null,
            "width": null,
            "min_width": null,
            "border": null,
            "align_items": null,
            "bottom": null,
            "_model_module": "@jupyter-widgets/base",
            "top": null,
            "grid_column": null,
            "overflow_y": null,
            "overflow_x": null,
            "grid_auto_flow": null,
            "grid_area": null,
            "grid_template_columns": null,
            "flex": null,
            "_model_name": "LayoutModel",
            "justify_items": null,
            "grid_row": null,
            "max_height": null,
            "align_content": null,
            "visibility": null,
            "align_self": null,
            "height": null,
            "min_height": null,
            "padding": null,
            "grid_auto_rows": null,
            "grid_gap": null,
            "max_width": null,
            "order": null,
            "_view_module_version": "1.2.0",
            "grid_template_areas": null,
            "object_position": null,
            "object_fit": null,
            "grid_auto_columns": null,
            "margin": null,
            "display": null,
            "left": null
          }
        },
        "16e96aa153d74e86b251a888c12898b2": {
          "model_module": "@jupyter-widgets/controls",
          "model_name": "FloatProgressModel",
          "state": {
            "_view_name": "ProgressView",
            "style": "IPY_MODEL_950c32db93a849ada1b843fc17703040",
            "_dom_classes": [],
            "description": "100%",
            "_model_name": "FloatProgressModel",
            "bar_style": "success",
            "max": 1550,
            "_view_module": "@jupyter-widgets/controls",
            "_model_module_version": "1.5.0",
            "value": 1550,
            "_view_count": null,
            "_view_module_version": "1.5.0",
            "orientation": "horizontal",
            "min": 0,
            "description_tooltip": null,
            "_model_module": "@jupyter-widgets/controls",
            "layout": "IPY_MODEL_a39566226a6746d8a3e6c24b8d04f845"
          }
        },
        "e67433025f65420487e745e90ff209bc": {
          "model_module": "@jupyter-widgets/controls",
          "model_name": "HTMLModel",
          "state": {
            "_view_name": "HTMLView",
            "style": "IPY_MODEL_fd0e0a7769154f6cbe8808767d8c718d",
            "_dom_classes": [],
            "description": "",
            "_model_name": "HTMLModel",
            "placeholder": "​",
            "_view_module": "@jupyter-widgets/controls",
            "_model_module_version": "1.5.0",
            "value": " 1550/1550 [00:14&lt;00:00, 104.57epoch/s]",
            "_view_count": null,
            "_view_module_version": "1.5.0",
            "description_tooltip": null,
            "_model_module": "@jupyter-widgets/controls",
            "layout": "IPY_MODEL_9cbd65c53c504527b8da425963852cac"
          }
        },
        "950c32db93a849ada1b843fc17703040": {
          "model_module": "@jupyter-widgets/controls",
          "model_name": "ProgressStyleModel",
          "state": {
            "_view_name": "StyleView",
            "_model_name": "ProgressStyleModel",
            "description_width": "initial",
            "_view_module": "@jupyter-widgets/base",
            "_model_module_version": "1.5.0",
            "_view_count": null,
            "_view_module_version": "1.2.0",
            "bar_color": null,
            "_model_module": "@jupyter-widgets/controls"
          }
        },
        "a39566226a6746d8a3e6c24b8d04f845": {
          "model_module": "@jupyter-widgets/base",
          "model_name": "LayoutModel",
          "state": {
            "_view_name": "LayoutView",
            "grid_template_rows": null,
            "right": null,
            "justify_content": null,
            "_view_module": "@jupyter-widgets/base",
            "overflow": null,
            "_model_module_version": "1.2.0",
            "_view_count": null,
            "flex_flow": null,
            "width": null,
            "min_width": null,
            "border": null,
            "align_items": null,
            "bottom": null,
            "_model_module": "@jupyter-widgets/base",
            "top": null,
            "grid_column": null,
            "overflow_y": null,
            "overflow_x": null,
            "grid_auto_flow": null,
            "grid_area": null,
            "grid_template_columns": null,
            "flex": null,
            "_model_name": "LayoutModel",
            "justify_items": null,
            "grid_row": null,
            "max_height": null,
            "align_content": null,
            "visibility": null,
            "align_self": null,
            "height": null,
            "min_height": null,
            "padding": null,
            "grid_auto_rows": null,
            "grid_gap": null,
            "max_width": null,
            "order": null,
            "_view_module_version": "1.2.0",
            "grid_template_areas": null,
            "object_position": null,
            "object_fit": null,
            "grid_auto_columns": null,
            "margin": null,
            "display": null,
            "left": null
          }
        },
        "fd0e0a7769154f6cbe8808767d8c718d": {
          "model_module": "@jupyter-widgets/controls",
          "model_name": "DescriptionStyleModel",
          "state": {
            "_view_name": "StyleView",
            "_model_name": "DescriptionStyleModel",
            "description_width": "",
            "_view_module": "@jupyter-widgets/base",
            "_model_module_version": "1.5.0",
            "_view_count": null,
            "_view_module_version": "1.2.0",
            "_model_module": "@jupyter-widgets/controls"
          }
        },
        "9cbd65c53c504527b8da425963852cac": {
          "model_module": "@jupyter-widgets/base",
          "model_name": "LayoutModel",
          "state": {
            "_view_name": "LayoutView",
            "grid_template_rows": null,
            "right": null,
            "justify_content": null,
            "_view_module": "@jupyter-widgets/base",
            "overflow": null,
            "_model_module_version": "1.2.0",
            "_view_count": null,
            "flex_flow": null,
            "width": null,
            "min_width": null,
            "border": null,
            "align_items": null,
            "bottom": null,
            "_model_module": "@jupyter-widgets/base",
            "top": null,
            "grid_column": null,
            "overflow_y": null,
            "overflow_x": null,
            "grid_auto_flow": null,
            "grid_area": null,
            "grid_template_columns": null,
            "flex": null,
            "_model_name": "LayoutModel",
            "justify_items": null,
            "grid_row": null,
            "max_height": null,
            "align_content": null,
            "visibility": null,
            "align_self": null,
            "height": null,
            "min_height": null,
            "padding": null,
            "grid_auto_rows": null,
            "grid_gap": null,
            "max_width": null,
            "order": null,
            "_view_module_version": "1.2.0",
            "grid_template_areas": null,
            "object_position": null,
            "object_fit": null,
            "grid_auto_columns": null,
            "margin": null,
            "display": null,
            "left": null
          }
        }
      }
    }
  },
  "cells": [
    {
      "cell_type": "markdown",
      "metadata": {
        "id": "view-in-github",
        "colab_type": "text"
      },
      "source": [
        "<a href=\"https://colab.research.google.com/github/vodnalasricharan/HackerEarth_Will_your_Employees_leave_you_/blob/master/HE_Employee_attriation.ipynb\" target=\"_parent\"><img src=\"https://colab.research.google.com/assets/colab-badge.svg\" alt=\"Open In Colab\"/></a>"
      ]
    },
    {
      "cell_type": "code",
      "metadata": {
        "id": "waq7DqJCHvFI",
        "colab_type": "code",
        "colab": {}
      },
      "source": [
        "import numpy as np # linear algebra\n",
        "import pandas as pd # data processing, CSV file I/O (e.g. pd.read_csv)\n",
        "import torch.nn as nn\n",
        "import matplotlib.pyplot as plt\n",
        "import torch\n",
        "from torch import optim\n",
        "import torch.nn.functional as F\n",
        "from tqdm import notebook\n",
        "from sklearn.metrics import accuracy_score\n",
        "from sklearn.model_selection import train_test_split\n",
        "import copy\n",
        "import pandas as pd\n",
        "import math\n",
        "from sklearn.externals import joblib\n",
        "import warnings\n",
        "warnings.filterwarnings('ignore')"
      ],
      "execution_count": null,
      "outputs": []
    },
    {
      "cell_type": "code",
      "metadata": {
        "id": "nFbSaBGgPu53",
        "colab_type": "code",
        "colab": {}
      },
      "source": [
        "\n",
        "def EDA(df,test=False):\n",
        "  if test:\n",
        "    df['Age'].fillna(int(df['Age'].mean()),inplace=True)\n",
        "    df['Pay_Scale']=df.groupby('Unit').transform(lambda x: x.fillna(int(x.mean())))\n",
        "    df['VAR2'].fillna(int(df['VAR2'].mean()),inplace=True)\n",
        "    df['VAR4'].fillna(int(df['VAR4'].mean()),inplace=True)\n",
        "    df['Work_Life_balance'].fillna(int(df['Work_Life_balance'].mean()),inplace=True)\n",
        "    df['Time_of_service'].fillna(int(df['Time_of_service'].mean()),inplace=True)\n",
        "    df.replace({ 'M' : 1, 'F' : 0 }, inplace=True)\n",
        "    df.replace({ 'Married' : 1, 'Single' : 0 }, inplace=True)\n",
        "    labels = df['Hometown'].astype('category').cat.categories.tolist()\n",
        "    replace_map_comp = {'Hometown' : {k: v for k,v in zip(labels,list(range(1,len(labels)+1)))}}\n",
        "    df.replace(replace_map_comp,inplace=True)\n",
        "    labels = df['Unit'].astype('category').cat.categories.tolist()\n",
        "    replace_map_unit = {'Unit' : {k: v for k,v in zip(labels,list(range(1,len(labels)+1)))}}\n",
        "    df.replace(replace_map_unit,inplace=True)\n",
        "    labels = df['Decision_skill_possess'].astype('category').cat.categories.tolist()\n",
        "    replace_map_dsp = {'Decision_skill_possess' : {k: v for k,v in zip(labels,list(range(1,len(labels)+1)))}}\n",
        "    df.replace(replace_map_dsp,inplace=True)\n",
        "    labels = df['Compensation_and_Benefits'].astype('category').cat.categories.tolist()\n",
        "    replace_map_cab = {'Compensation_and_Benefits' : {k: v for k,v in zip(labels,list(range(1,len(labels)+1)))}}\n",
        "    df.replace(replace_map_cab,inplace=True)\n",
        "  else:\n",
        "    df['Age'].fillna(int(df['Age'].mean()),inplace=True)\n",
        "    df['Pay_Scale']=df.groupby('Unit').transform(lambda x: x.fillna(int(x.mean())))\n",
        "    df['VAR2'].fillna(int(df['VAR2'].mean()),inplace=True)\n",
        "    df['VAR4'].fillna(int(df['VAR4'].mean()),inplace=True)\n",
        "    df['Work_Life_balance'].fillna(int(df['Work_Life_balance'].mean()),inplace=True)\n",
        "    df.dropna(subset=['Time_of_service'],inplace=True)\n",
        "    df.replace({ 'M' : 1, 'F' : 0 }, inplace=True)\n",
        "    df.replace({ 'Married' : 1, 'Single' : 0 }, inplace=True)\n",
        "    labels = df['Hometown'].astype('category').cat.categories.tolist()\n",
        "    replace_map_comp = {'Hometown' : {k: v for k,v in zip(labels,list(range(1,len(labels)+1)))}}\n",
        "    df.replace(replace_map_comp,inplace=True)\n",
        "    labels = df['Unit'].astype('category').cat.categories.tolist()\n",
        "    replace_map_unit = {'Unit' : {k: v for k,v in zip(labels,list(range(1,len(labels)+1)))}}\n",
        "    df.replace(replace_map_unit,inplace=True)\n",
        "    labels = df['Decision_skill_possess'].astype('category').cat.categories.tolist()\n",
        "    replace_map_dsp = {'Decision_skill_possess' : {k: v for k,v in zip(labels,list(range(1,len(labels)+1)))}}\n",
        "    df.replace(replace_map_dsp,inplace=True)\n",
        "    labels = df['Compensation_and_Benefits'].astype('category').cat.categories.tolist()\n",
        "    replace_map_cab = {'Compensation_and_Benefits' : {k: v for k,v in zip(labels,list(range(1,len(labels)+1)))}}\n",
        "    df.replace(replace_map_cab,inplace=True)\n",
        "  return df"
      ],
      "execution_count": null,
      "outputs": []
    },
    {
      "cell_type": "code",
      "metadata": {
        "id": "utd5JGPGH6Fr",
        "colab_type": "code",
        "colab": {}
      },
      "source": [
        "def get_data(data):\n",
        "    # take only this specific column\n",
        "    data = data[['Gender','Age', 'Relationship_Status', 'Decision_skill_possess', 'Time_of_service', 'Time_since_promotion', 'growth_rate','Post_Level','Pay_Scale','Compensation_and_Benefits','Work_Life_balance','VAR1','VAR2','VAR3','VAR4','VAR5','VAR6','VAR7']]\n",
        "    \n",
        "    # transform into a numpy array\n",
        "    data = data.to_numpy()\n",
        "    \n",
        "    # normalize (make sure the data is between -1 and 1)\n",
        "    for i in range(data.shape[1]):\n",
        "        data[:,i] = (data[:,i] - data[:,i].mean()) / data[:,i].std()\n",
        "    \n",
        "    return data"
      ],
      "execution_count": null,
      "outputs": []
    },
    {
      "cell_type": "code",
      "metadata": {
        "id": "qH3qMiqzwRVR",
        "colab_type": "code",
        "colab": {
          "base_uri": "https://localhost:8080/",
          "height": 538
        },
        "outputId": "5e5fa93e-2df5-4c43-db3b-8a97d6f2cd68"
      },
      "source": [
        "df=pd.read_csv('Train.csv')\n",
        "df=EDA(df,test=True)\n",
        "df.info()"
      ],
      "execution_count": null,
      "outputs": [
        {
          "output_type": "stream",
          "text": [
            "<class 'pandas.core.frame.DataFrame'>\n",
            "RangeIndex: 7000 entries, 0 to 6999\n",
            "Data columns (total 24 columns):\n",
            " #   Column                     Non-Null Count  Dtype  \n",
            "---  ------                     --------------  -----  \n",
            " 0   Employee_ID                7000 non-null   object \n",
            " 1   Gender                     7000 non-null   int64  \n",
            " 2   Age                        7000 non-null   float64\n",
            " 3   Education_Level            7000 non-null   int64  \n",
            " 4   Relationship_Status        7000 non-null   int64  \n",
            " 5   Hometown                   7000 non-null   int64  \n",
            " 6   Unit                       7000 non-null   int64  \n",
            " 7   Decision_skill_possess     7000 non-null   int64  \n",
            " 8   Time_of_service            7000 non-null   float64\n",
            " 9   Time_since_promotion       7000 non-null   int64  \n",
            " 10  growth_rate                7000 non-null   int64  \n",
            " 11  Travel_Rate                7000 non-null   int64  \n",
            " 12  Post_Level                 7000 non-null   int64  \n",
            " 13  Pay_Scale                  7000 non-null   float64\n",
            " 14  Compensation_and_Benefits  7000 non-null   int64  \n",
            " 15  Work_Life_balance          7000 non-null   float64\n",
            " 16  VAR1                       7000 non-null   int64  \n",
            " 17  VAR2                       7000 non-null   float64\n",
            " 18  VAR3                       7000 non-null   float64\n",
            " 19  VAR4                       7000 non-null   float64\n",
            " 20  VAR5                       7000 non-null   int64  \n",
            " 21  VAR6                       7000 non-null   int64  \n",
            " 22  VAR7                       7000 non-null   int64  \n",
            " 23  Attrition_rate             7000 non-null   float64\n",
            "dtypes: float64(8), int64(15), object(1)\n",
            "memory usage: 1.3+ MB\n"
          ],
          "name": "stdout"
        }
      ]
    },
    {
      "cell_type": "code",
      "metadata": {
        "id": "umTAjqQ7IMg_",
        "colab_type": "code",
        "colab": {
          "base_uri": "https://localhost:8080/",
          "height": 84
        },
        "outputId": "7b4752f9-1a0e-4dcd-ab23-92fd2894b159"
      },
      "source": [
        "# lets take out first the label\n",
        "\n",
        "y=df['Attrition_rate'].values\n",
        "#print(y.shape)-->(891,)\n",
        "#y_binarized is used just stratifying the data in train_test_split\n",
        "#df['Survived'].value_counts(normalize=True)#ensures all 0,1's are in equal ratio\n",
        "#y_binarized=df['Survived'].values\n",
        "#print(y_binarized)\n",
        "\n",
        "\n",
        "#loading data into x\n",
        "x= get_data(df)\n",
        "#print(x.shape)--->(891,6)\n",
        "\n",
        "#splitting data for evaluation and training  x_train,y_train --->training purpose y_test,x_test--->valuation purpose\n",
        "x_train,x_test,y_train,y_test=train_test_split(x,y,random_state=0)\n",
        "print(x_train.shape)\n",
        "print(x_test.shape)\n",
        "print(y_train.shape)\n",
        "print(y_test.shape)\n",
        "\n",
        "#converting numpy arrays into tensors using pytorch\n",
        "x_torch_train=torch.from_numpy(x)\n",
        "y_torch_trian=torch.from_numpy(y)\n",
        "x_torch_val=torch.from_numpy(x_test)\n",
        "y_torch_val=torch.from_numpy(y_test)"
      ],
      "execution_count": null,
      "outputs": [
        {
          "output_type": "stream",
          "text": [
            "(5250, 18)\n",
            "(1750, 18)\n",
            "(5250,)\n",
            "(1750,)\n"
          ],
          "name": "stdout"
        }
      ]
    },
    {
      "cell_type": "code",
      "metadata": {
        "id": "nQTzu2xMbq0H",
        "colab_type": "code",
        "colab": {}
      },
      "source": [
        "def rmse(input, target):\n",
        "    sum=0\n",
        "    total=0\n",
        "    for i,j in zip(input,target):\n",
        "      sum+=(i-j)**2\n",
        "      total+=1\n",
        "    rm=math.sqrt(sum/total)\n",
        "    return rm"
      ],
      "execution_count": null,
      "outputs": []
    },
    {
      "cell_type": "code",
      "metadata": {
        "id": "sXPP4HfPWs5W",
        "colab_type": "code",
        "colab": {}
      },
      "source": [
        "class RMSELoss(torch.nn.Module):\n",
        "    def __init__(self):\n",
        "        super(RMSELoss,self).__init__()\n",
        "\n",
        "    def forward(self,x,y):\n",
        "        criterion = nn.MSELoss()\n",
        "        loss = torch.sqrt(criterion(x, y))\n",
        "        return loss"
      ],
      "execution_count": null,
      "outputs": []
    },
    {
      "cell_type": "code",
      "metadata": {
        "id": "4sv9__3fJh0-",
        "colab_type": "code",
        "colab": {}
      },
      "source": [
        "class Network(nn.Module):\n",
        "  def __init__(self):\n",
        "    super().__init__()\n",
        "    torch.manual_seed(0)\n",
        "    self.net=nn.Sequential(\n",
        "                            nn.Linear(18,512),\n",
        "                            nn.LeakyReLU(),\n",
        "                            nn.Linear(512,256),\n",
        "                            nn.LeakyReLU(),\n",
        "                            nn.Linear(256,126),\n",
        "                            nn.ReLU(),\n",
        "                            nn.Linear(126,1),\n",
        "                            nn.Sigmoid()\n",
        "                            )\n",
        "  def forward(self,X):\n",
        "    return self.net(X)[:,0]\n",
        "  def fit(self,X,Y,optimizer=0,loss_fn=nn.MSELoss(),epochs=1000):\n",
        "    loss_arr=[]\n",
        "    min_loss=8\n",
        "    if optimizer == 0:\n",
        "      optimizer=optim.Adam(self.net.parameters(),lr=0.00125)\n",
        "    for i in notebook.tqdm(range(epochs),total=epochs,unit='epoch'):\n",
        "      loss_in=self(X)\n",
        "      loss_label=Y\n",
        "      loss=loss_fn(loss_in,loss_label)\n",
        "      loss.backward()\n",
        "      optimizer.step()\n",
        "      optimizer.zero_grad()\n",
        "      loss_arr.append(loss.item())\n",
        "      if min_loss > loss.item():\n",
        "        min_loss = loss.item()\n",
        "        best_model = copy.deepcopy(self.state_dict())\n",
        "    print('========================')\n",
        "    print('     Min loss %0.2f' % min_loss)\n",
        "    print('========================')\n",
        "    self.load_state_dict(best_model)\n",
        "    return loss_arr\n",
        "    \n",
        "  def accuracy(self,X,Y):\n",
        "      correct=0\n",
        "      total=0\n",
        "      train=self(X)\n",
        "      rmse_v=rmse(train,Y)\n",
        "      train=torch.round(train * 10**2)/(10**2)\n",
        "      Y=torch.round(Y * 10**2)/(10**2)\n",
        "      #rmse=RMSELoss(train,Y)\n",
        "      for i,j in zip(train,Y):\n",
        "        total+=1\n",
        "        if i==j:\n",
        "          correct+=1\n",
        "      accuracy=100*(correct/total)\n",
        "      print('total =',total)\n",
        "      print('correct predictions =',correct)\n",
        "      print('accuracy =',round(accuracy,2))\n",
        "      print('rmse =',rmse_v)"
      ],
      "execution_count": null,
      "outputs": []
    },
    {
      "cell_type": "code",
      "metadata": {
        "id": "TljZUxCMJ2pu",
        "colab_type": "code",
        "colab": {
          "base_uri": "https://localhost:8080/",
          "height": 235
        },
        "outputId": "3d8ed92c-aac7-425e-c4e7-927efd3f4a9c"
      },
      "source": [
        "#intializing model and moving all data to gpu\n",
        "model=Network()\n",
        "device=torch.device(\"cuda\")\n",
        "print(device)\n",
        "x_torch_train=x_torch_train.to(device)\n",
        "y_torch_trian=y_torch_trian.to(device)\n",
        "x_torch_val=x_torch_val.to(device)\n",
        "y_torch_val=y_torch_val.to(device)\n",
        "model.to(device)"
      ],
      "execution_count": null,
      "outputs": [
        {
          "output_type": "stream",
          "text": [
            "cuda\n"
          ],
          "name": "stdout"
        },
        {
          "output_type": "execute_result",
          "data": {
            "text/plain": [
              "Network(\n",
              "  (net): Sequential(\n",
              "    (0): Linear(in_features=18, out_features=512, bias=True)\n",
              "    (1): LeakyReLU(negative_slope=0.01)\n",
              "    (2): Linear(in_features=512, out_features=256, bias=True)\n",
              "    (3): LeakyReLU(negative_slope=0.01)\n",
              "    (4): Linear(in_features=256, out_features=126, bias=True)\n",
              "    (5): ReLU()\n",
              "    (6): Linear(in_features=126, out_features=1, bias=True)\n",
              "    (7): Sigmoid()\n",
              "  )\n",
              ")"
            ]
          },
          "metadata": {
            "tags": []
          },
          "execution_count": 104
        }
      ]
    },
    {
      "cell_type": "code",
      "metadata": {
        "id": "bY9dBj80UBKp",
        "colab_type": "code",
        "colab": {
          "base_uri": "https://localhost:8080/",
          "height": 50
        },
        "outputId": "6e6260f4-31aa-465b-9610-736f4881bc50"
      },
      "source": [
        "y=model(x_torch_val.float())\n",
        "print(y)"
      ],
      "execution_count": null,
      "outputs": [
        {
          "output_type": "stream",
          "text": [
            "tensor([0.4643, 0.4625, 0.4535,  ..., 0.4798, 0.4700, 0.4701], device='cuda:0',\n",
            "       grad_fn=<SelectBackward>)\n"
          ],
          "name": "stdout"
        }
      ]
    },
    {
      "cell_type": "code",
      "metadata": {
        "id": "FVbOFMUmKHcd",
        "colab_type": "code",
        "colab": {
          "base_uri": "https://localhost:8080/",
          "height": 549,
          "referenced_widgets": [
            "b2d94a4459f145bf93f52e0b372fb946",
            "f778a38e2b654162b6ccb8b7706f80fd",
            "16e96aa153d74e86b251a888c12898b2",
            "e67433025f65420487e745e90ff209bc",
            "950c32db93a849ada1b843fc17703040",
            "a39566226a6746d8a3e6c24b8d04f845",
            "fd0e0a7769154f6cbe8808767d8c718d",
            "9cbd65c53c504527b8da425963852cac"
          ]
        },
        "outputId": "1b529130-1044-42ef-ef42-b7f847f29f9e"
      },
      "source": [
        "#loss_fn=nn.BCELoss()\n",
        "#optimizer=optim.SGD(model.parameters(),lr=1)#---->#specifiy learning rate if you prefer using lr=learning_rate_value\n",
        "optimizer=optim.Adam(model.parameters(),lr=0.00000145)\n",
        "losslist=model.fit(x_torch_train.float(),y_torch_trian.float(),optimizer,epochs=1550)\n",
        "print('----------Train Accuracy---------- ')\n",
        "model.accuracy(x_torch_train.float(),y_torch_trian.float())\n",
        "print('----------Test  Accuracy---------- ')\n",
        "model.accuracy(x_torch_val.float(),y_torch_val.float())\n",
        "plt.plot(losslist)\n",
        "plt.show()\n",
        "joblib.dump(model, 'nnmodel8.pkl')"
      ],
      "execution_count": null,
      "outputs": [
        {
          "output_type": "display_data",
          "data": {
            "application/vnd.jupyter.widget-view+json": {
              "model_id": "b2d94a4459f145bf93f52e0b372fb946",
              "version_minor": 0,
              "version_major": 2
            },
            "text/plain": [
              "HBox(children=(FloatProgress(value=0.0, max=1550.0), HTML(value='')))"
            ]
          },
          "metadata": {
            "tags": []
          }
        },
        {
          "output_type": "stream",
          "text": [
            "\n",
            "========================\n",
            "     Min loss 0.04\n",
            "========================\n",
            "----------Train Accuracy---------- \n",
            "total = 7000\n",
            "correct predictions = 106\n",
            "accuracy = 1.51\n",
            "rmse = 0.20738159083044103\n",
            "----------Test  Accuracy---------- \n",
            "total = 1750\n",
            "correct predictions = 21\n",
            "accuracy = 1.2\n",
            "rmse = 0.20852611781189886\n"
          ],
          "name": "stdout"
        },
        {
          "output_type": "display_data",
          "data": {
            "image/png": "[encoded data removed]",
            "text/plain": [
              "<Figure size 432x288 with 1 Axes>"
            ]
          },
          "metadata": {
            "tags": [],
            "needs_background": "light"
          }
        },
        {
          "output_type": "execute_result",
          "data": {
            "text/plain": [
              "['nnmodel8.pkl']"
            ]
          },
          "metadata": {
            "tags": []
          },
          "execution_count": 106
        }
      ]
    },
    {
      "cell_type": "code",
      "metadata": {
        "id": "YQRPWh1J_Ad3",
        "colab_type": "code",
        "colab": {}
      },
      "source": [
        "model=joblib.load('nnmodel7.pkl')\n",
        "#print(netw)"
      ],
      "execution_count": null,
      "outputs": []
    },
    {
      "cell_type": "code",
      "metadata": {
        "id": "8bEoE7J3AshL",
        "colab_type": "code",
        "colab": {}
      },
      "source": [
        "from sklearn.metrics import mean_squared_error\n",
        "y_pred=model(x_torch_val.float())\n",
        "y_pred=y_pred.cpu()\n",
        "Y=y_torch_val.cpu()\n",
        "Y=Y.detach().numpy()\n",
        "y_pred=y_pred.detach().numpy()"
      ],
      "execution_count": null,
      "outputs": []
    },
    {
      "cell_type": "code",
      "metadata": {
        "id": "-YCudHHVOjSM",
        "colab_type": "code",
        "colab": {}
      },
      "source": [
        "import math"
      ],
      "execution_count": null,
      "outputs": []
    },
    {
      "cell_type": "code",
      "metadata": {
        "id": "0X-l5UxnN0H_",
        "colab_type": "code",
        "colab": {
          "base_uri": "https://localhost:8080/",
          "height": 34
        },
        "outputId": "07582069-9545-42e4-f45f-2438060c65bf"
      },
      "source": [
        "max(0,1-math.sqrt(mean_squared_error(y_pred,Y)))"
      ],
      "execution_count": null,
      "outputs": [
        {
          "output_type": "execute_result",
          "data": {
            "text/plain": [
              "0.9953568810196516"
            ]
          },
          "metadata": {
            "tags": []
          },
          "execution_count": 115
        }
      ]
    },
    {
      "cell_type": "code",
      "metadata": {
        "id": "CD8-qMOUDD9m",
        "colab_type": "code",
        "colab": {
          "base_uri": "https://localhost:8080/",
          "height": 422
        },
        "outputId": "d8da30db-db6d-40f4-be5f-333a593c289d"
      },
      "source": [
        "test=pd.read_csv('./Test.csv')\n",
        "test"
      ],
      "execution_count": null,
      "outputs": [
        {
          "output_type": "execute_result",
          "data": {
            "text/html": [
              "<div>\n",
              "<style scoped>\n",
              "    .dataframe tbody tr th:only-of-type {\n",
              "        vertical-align: middle;\n",
              "    }\n",
              "\n",
              "    .dataframe tbody tr th {\n",
              "        vertical-align: top;\n",
              "    }\n",
              "\n",
              "    .dataframe thead th {\n",
              "        text-align: right;\n",
              "    }\n",
              "</style>\n",
              "<table border=\"1\" class=\"dataframe\">\n",
              "  <thead>\n",
              "    <tr style=\"text-align: right;\">\n",
              "      <th></th>\n",
              "      <th>Employee_ID</th>\n",
              "      <th>Gender</th>\n",
              "      <th>Age</th>\n",
              "      <th>Education_Level</th>\n",
              "      <th>Relationship_Status</th>\n",
              "      <th>Hometown</th>\n",
              "      <th>Unit</th>\n",
              "      <th>Decision_skill_possess</th>\n",
              "      <th>Time_of_service</th>\n",
              "      <th>Time_since_promotion</th>\n",
              "      <th>growth_rate</th>\n",
              "      <th>Travel_Rate</th>\n",
              "      <th>Post_Level</th>\n",
              "      <th>Pay_Scale</th>\n",
              "      <th>Compensation_and_Benefits</th>\n",
              "      <th>Work_Life_balance</th>\n",
              "      <th>VAR1</th>\n",
              "      <th>VAR2</th>\n",
              "      <th>VAR3</th>\n",
              "      <th>VAR4</th>\n",
              "      <th>VAR5</th>\n",
              "      <th>VAR6</th>\n",
              "      <th>VAR7</th>\n",
              "    </tr>\n",
              "  </thead>\n",
              "  <tbody>\n",
              "    <tr>\n",
              "      <th>0</th>\n",
              "      <td>EID_22713</td>\n",
              "      <td>F</td>\n",
              "      <td>32.0</td>\n",
              "      <td>5</td>\n",
              "      <td>Single</td>\n",
              "      <td>Springfield</td>\n",
              "      <td>R&amp;D</td>\n",
              "      <td>Conceptual</td>\n",
              "      <td>7.0</td>\n",
              "      <td>4</td>\n",
              "      <td>30</td>\n",
              "      <td>1</td>\n",
              "      <td>5</td>\n",
              "      <td>4.0</td>\n",
              "      <td>type2</td>\n",
              "      <td>1.0</td>\n",
              "      <td>3</td>\n",
              "      <td>-0.9612</td>\n",
              "      <td>-0.4537</td>\n",
              "      <td>2.0</td>\n",
              "      <td>1</td>\n",
              "      <td>8</td>\n",
              "      <td>4</td>\n",
              "    </tr>\n",
              "    <tr>\n",
              "      <th>1</th>\n",
              "      <td>EID_9658</td>\n",
              "      <td>M</td>\n",
              "      <td>65.0</td>\n",
              "      <td>2</td>\n",
              "      <td>Single</td>\n",
              "      <td>Lebanon</td>\n",
              "      <td>IT</td>\n",
              "      <td>Directive</td>\n",
              "      <td>41.0</td>\n",
              "      <td>2</td>\n",
              "      <td>72</td>\n",
              "      <td>1</td>\n",
              "      <td>1</td>\n",
              "      <td>1.0</td>\n",
              "      <td>type2</td>\n",
              "      <td>1.0</td>\n",
              "      <td>4</td>\n",
              "      <td>-0.9612</td>\n",
              "      <td>0.7075</td>\n",
              "      <td>1.0</td>\n",
              "      <td>2</td>\n",
              "      <td>8</td>\n",
              "      <td>2</td>\n",
              "    </tr>\n",
              "    <tr>\n",
              "      <th>2</th>\n",
              "      <td>EID_22203</td>\n",
              "      <td>M</td>\n",
              "      <td>52.0</td>\n",
              "      <td>3</td>\n",
              "      <td>Married</td>\n",
              "      <td>Springfield</td>\n",
              "      <td>Sales</td>\n",
              "      <td>Directive</td>\n",
              "      <td>21.0</td>\n",
              "      <td>3</td>\n",
              "      <td>25</td>\n",
              "      <td>0</td>\n",
              "      <td>1</td>\n",
              "      <td>8.0</td>\n",
              "      <td>type3</td>\n",
              "      <td>1.0</td>\n",
              "      <td>4</td>\n",
              "      <td>-0.1048</td>\n",
              "      <td>0.7075</td>\n",
              "      <td>2.0</td>\n",
              "      <td>1</td>\n",
              "      <td>9</td>\n",
              "      <td>3</td>\n",
              "    </tr>\n",
              "    <tr>\n",
              "      <th>3</th>\n",
              "      <td>EID_7652</td>\n",
              "      <td>M</td>\n",
              "      <td>50.0</td>\n",
              "      <td>5</td>\n",
              "      <td>Single</td>\n",
              "      <td>Washington</td>\n",
              "      <td>Marketing</td>\n",
              "      <td>Analytical</td>\n",
              "      <td>11.0</td>\n",
              "      <td>4</td>\n",
              "      <td>28</td>\n",
              "      <td>1</td>\n",
              "      <td>1</td>\n",
              "      <td>2.0</td>\n",
              "      <td>type0</td>\n",
              "      <td>4.0</td>\n",
              "      <td>3</td>\n",
              "      <td>-0.1048</td>\n",
              "      <td>0.7075</td>\n",
              "      <td>2.0</td>\n",
              "      <td>2</td>\n",
              "      <td>8</td>\n",
              "      <td>3</td>\n",
              "    </tr>\n",
              "    <tr>\n",
              "      <th>4</th>\n",
              "      <td>EID_6516</td>\n",
              "      <td>F</td>\n",
              "      <td>44.0</td>\n",
              "      <td>3</td>\n",
              "      <td>Married</td>\n",
              "      <td>Franklin</td>\n",
              "      <td>R&amp;D</td>\n",
              "      <td>Conceptual</td>\n",
              "      <td>12.0</td>\n",
              "      <td>4</td>\n",
              "      <td>47</td>\n",
              "      <td>1</td>\n",
              "      <td>3</td>\n",
              "      <td>2.0</td>\n",
              "      <td>type2</td>\n",
              "      <td>4.0</td>\n",
              "      <td>4</td>\n",
              "      <td>1.6081</td>\n",
              "      <td>0.7075</td>\n",
              "      <td>2.0</td>\n",
              "      <td>2</td>\n",
              "      <td>7</td>\n",
              "      <td>4</td>\n",
              "    </tr>\n",
              "    <tr>\n",
              "      <th>...</th>\n",
              "      <td>...</td>\n",
              "      <td>...</td>\n",
              "      <td>...</td>\n",
              "      <td>...</td>\n",
              "      <td>...</td>\n",
              "      <td>...</td>\n",
              "      <td>...</td>\n",
              "      <td>...</td>\n",
              "      <td>...</td>\n",
              "      <td>...</td>\n",
              "      <td>...</td>\n",
              "      <td>...</td>\n",
              "      <td>...</td>\n",
              "      <td>...</td>\n",
              "      <td>...</td>\n",
              "      <td>...</td>\n",
              "      <td>...</td>\n",
              "      <td>...</td>\n",
              "      <td>...</td>\n",
              "      <td>...</td>\n",
              "      <td>...</td>\n",
              "      <td>...</td>\n",
              "      <td>...</td>\n",
              "    </tr>\n",
              "    <tr>\n",
              "      <th>2995</th>\n",
              "      <td>EID_22547</td>\n",
              "      <td>F</td>\n",
              "      <td>32.0</td>\n",
              "      <td>3</td>\n",
              "      <td>Single</td>\n",
              "      <td>Franklin</td>\n",
              "      <td>Sales</td>\n",
              "      <td>Directive</td>\n",
              "      <td>3.0</td>\n",
              "      <td>3</td>\n",
              "      <td>38</td>\n",
              "      <td>1</td>\n",
              "      <td>3</td>\n",
              "      <td>6.0</td>\n",
              "      <td>type2</td>\n",
              "      <td>2.0</td>\n",
              "      <td>1</td>\n",
              "      <td>-0.1048</td>\n",
              "      <td>0.7075</td>\n",
              "      <td>1.0</td>\n",
              "      <td>4</td>\n",
              "      <td>7</td>\n",
              "      <td>4</td>\n",
              "    </tr>\n",
              "    <tr>\n",
              "      <th>2996</th>\n",
              "      <td>EID_10066</td>\n",
              "      <td>F</td>\n",
              "      <td>NaN</td>\n",
              "      <td>2</td>\n",
              "      <td>Single</td>\n",
              "      <td>Franklin</td>\n",
              "      <td>Marketing</td>\n",
              "      <td>Conceptual</td>\n",
              "      <td>10.0</td>\n",
              "      <td>2</td>\n",
              "      <td>57</td>\n",
              "      <td>1</td>\n",
              "      <td>4</td>\n",
              "      <td>9.0</td>\n",
              "      <td>type2</td>\n",
              "      <td>1.0</td>\n",
              "      <td>3</td>\n",
              "      <td>0.7516</td>\n",
              "      <td>0.7075</td>\n",
              "      <td>3.0</td>\n",
              "      <td>4</td>\n",
              "      <td>8</td>\n",
              "      <td>3</td>\n",
              "    </tr>\n",
              "    <tr>\n",
              "      <th>2997</th>\n",
              "      <td>EID_7126</td>\n",
              "      <td>F</td>\n",
              "      <td>60.0</td>\n",
              "      <td>4</td>\n",
              "      <td>Single</td>\n",
              "      <td>Lebanon</td>\n",
              "      <td>Logistics</td>\n",
              "      <td>Analytical</td>\n",
              "      <td>35.0</td>\n",
              "      <td>1</td>\n",
              "      <td>69</td>\n",
              "      <td>0</td>\n",
              "      <td>2</td>\n",
              "      <td>9.0</td>\n",
              "      <td>type3</td>\n",
              "      <td>3.0</td>\n",
              "      <td>3</td>\n",
              "      <td>-1.8176</td>\n",
              "      <td>-0.4537</td>\n",
              "      <td>NaN</td>\n",
              "      <td>4</td>\n",
              "      <td>8</td>\n",
              "      <td>4</td>\n",
              "    </tr>\n",
              "    <tr>\n",
              "      <th>2998</th>\n",
              "      <td>EID_4929</td>\n",
              "      <td>F</td>\n",
              "      <td>51.0</td>\n",
              "      <td>1</td>\n",
              "      <td>Married</td>\n",
              "      <td>Springfield</td>\n",
              "      <td>IT</td>\n",
              "      <td>Behavioral</td>\n",
              "      <td>23.0</td>\n",
              "      <td>1</td>\n",
              "      <td>30</td>\n",
              "      <td>0</td>\n",
              "      <td>2</td>\n",
              "      <td>6.0</td>\n",
              "      <td>type3</td>\n",
              "      <td>1.0</td>\n",
              "      <td>5</td>\n",
              "      <td>0.7516</td>\n",
              "      <td>-0.4537</td>\n",
              "      <td>2.0</td>\n",
              "      <td>3</td>\n",
              "      <td>9</td>\n",
              "      <td>2</td>\n",
              "    </tr>\n",
              "    <tr>\n",
              "      <th>2999</th>\n",
              "      <td>EID_24750</td>\n",
              "      <td>F</td>\n",
              "      <td>45.0</td>\n",
              "      <td>1</td>\n",
              "      <td>Single</td>\n",
              "      <td>Franklin</td>\n",
              "      <td>Sales</td>\n",
              "      <td>Directive</td>\n",
              "      <td>12.0</td>\n",
              "      <td>4</td>\n",
              "      <td>70</td>\n",
              "      <td>1</td>\n",
              "      <td>2</td>\n",
              "      <td>8.0</td>\n",
              "      <td>type4</td>\n",
              "      <td>4.0</td>\n",
              "      <td>3</td>\n",
              "      <td>0.7516</td>\n",
              "      <td>-0.4537</td>\n",
              "      <td>2.0</td>\n",
              "      <td>2</td>\n",
              "      <td>8</td>\n",
              "      <td>5</td>\n",
              "    </tr>\n",
              "  </tbody>\n",
              "</table>\n",
              "<p>3000 rows × 23 columns</p>\n",
              "</div>"
            ],
            "text/plain": [
              "     Employee_ID Gender   Age  Education_Level  ... VAR4 VAR5 VAR6 VAR7\n",
              "0      EID_22713      F  32.0                5  ...  2.0    1    8    4\n",
              "1       EID_9658      M  65.0                2  ...  1.0    2    8    2\n",
              "2      EID_22203      M  52.0                3  ...  2.0    1    9    3\n",
              "3       EID_7652      M  50.0                5  ...  2.0    2    8    3\n",
              "4       EID_6516      F  44.0                3  ...  2.0    2    7    4\n",
              "...          ...    ...   ...              ...  ...  ...  ...  ...  ...\n",
              "2995   EID_22547      F  32.0                3  ...  1.0    4    7    4\n",
              "2996   EID_10066      F   NaN                2  ...  3.0    4    8    3\n",
              "2997    EID_7126      F  60.0                4  ...  NaN    4    8    4\n",
              "2998    EID_4929      F  51.0                1  ...  2.0    3    9    2\n",
              "2999   EID_24750      F  45.0                1  ...  2.0    2    8    5\n",
              "\n",
              "[3000 rows x 23 columns]"
            ]
          },
          "metadata": {
            "tags": []
          },
          "execution_count": 116
        }
      ]
    },
    {
      "cell_type": "code",
      "metadata": {
        "id": "I9nD34EmMUkr",
        "colab_type": "code",
        "colab": {}
      },
      "source": [
        "test=pd.read_csv('./Test.csv')\n",
        "test=EDA(test,test=True)\n",
        "x_test=get_data(test)\n",
        "#y_tst=df['Attrition_rate'].values\n",
        "x_test=torch.from_numpy(x_test)\n",
        "#y=torch.from_numpy(y_tst)\n",
        "x_test=x_test.to(device)\n",
        "#y=y.to(device)\n",
        "#print('--------------train csv accuracy---------------')\n",
        "#model.accuracy(test.float(),y.float())\n"
      ],
      "execution_count": null,
      "outputs": []
    },
    {
      "cell_type": "code",
      "metadata": {
        "id": "DB_6nFD_SKFW",
        "colab_type": "code",
        "colab": {
          "base_uri": "https://localhost:8080/",
          "height": 50
        },
        "outputId": "06ef3c09-8e89-41bd-8301-299c90442d40"
      },
      "source": [
        "employee_ids = test['Employee_ID'].to_numpy()\n",
        "print(type(employee_ids))\n",
        "print(len(employee_ids))"
      ],
      "execution_count": null,
      "outputs": [
        {
          "output_type": "stream",
          "text": [
            "<class 'numpy.ndarray'>\n",
            "3000\n"
          ],
          "name": "stdout"
        }
      ]
    },
    {
      "cell_type": "code",
      "metadata": {
        "id": "mi89kudOCWV1",
        "colab_type": "code",
        "colab": {
          "base_uri": "https://localhost:8080/",
          "height": 218
        },
        "outputId": "7a22ddb3-75c1-4080-dc32-c45dc2c3feed"
      },
      "source": [
        "# net1=joblib.load('nnmodel3.pkl')\n",
        "# net2=joblib.load('nnmodel4.pkl')\n",
        "# net3=joblib.load('nnmodel5.pkl')\n",
        "# net4=joblib.load('nnmodel6.pkl')\n",
        "net5=joblib.load('nnmodel7.pkl')\n",
        "# net1.to(device)\n",
        "# net2.to(device)\n",
        "# net3.to(device)\n",
        "# net4.to(device)\n",
        "net5.to(device)"
      ],
      "execution_count": null,
      "outputs": [
        {
          "output_type": "execute_result",
          "data": {
            "text/plain": [
              "Network(\n",
              "  (net): Sequential(\n",
              "    (0): Linear(in_features=18, out_features=512, bias=True)\n",
              "    (1): LeakyReLU(negative_slope=0.01)\n",
              "    (2): Linear(in_features=512, out_features=256, bias=True)\n",
              "    (3): LeakyReLU(negative_slope=0.01)\n",
              "    (4): Linear(in_features=256, out_features=126, bias=True)\n",
              "    (5): ReLU()\n",
              "    (6): Linear(in_features=126, out_features=1, bias=True)\n",
              "    (7): Sigmoid()\n",
              "  )\n",
              ")"
            ]
          },
          "metadata": {
            "tags": []
          },
          "execution_count": 119
        }
      ]
    },
    {
      "cell_type": "code",
      "metadata": {
        "id": "M42mXWjbFFqI",
        "colab_type": "code",
        "colab": {}
      },
      "source": [
        "# test_preds1=net1(x_test.float())\n",
        "# test_preds2=net2(x_test.float())\n",
        "# test_preds3=net3(x_test.float())\n",
        "# test_preds4=net4(x_test.float())\n",
        "test_preds5=net5(x_test.float())"
      ],
      "execution_count": null,
      "outputs": []
    },
    {
      "cell_type": "code",
      "metadata": {
        "id": "9FOrfVV8Ffi8",
        "colab_type": "code",
        "colab": {}
      },
      "source": [
        "# test_preds1=test_preds1.tolist()\n",
        "# test_preds2=test_preds2.tolist()\n",
        "# test_preds3=test_preds3.tolist()\n",
        "# test_preds4=test_preds4.tolist()\n",
        "test_preds5=test_preds5.tolist()"
      ],
      "execution_count": null,
      "outputs": []
    },
    {
      "cell_type": "code",
      "metadata": {
        "id": "7JMDYhmDFoFH",
        "colab_type": "code",
        "colab": {}
      },
      "source": [
        "# final_result1 = np.array(list(map(list, zip(employee_ids,test_preds1))))\n",
        "# final_result2 = np.array(list(map(list, zip(employee_ids,test_preds2))))\n",
        "# final_result3 = np.array(list(map(list, zip(employee_ids,test_preds3))))\n",
        "# final_result4 = np.array(list(map(list, zip(employee_ids,test_preds4))))\n",
        "final_result5 = np.array(list(map(list, zip(employee_ids,test_preds5))))"
      ],
      "execution_count": null,
      "outputs": []
    },
    {
      "cell_type": "code",
      "metadata": {
        "id": "PQncuWLJFwTR",
        "colab_type": "code",
        "colab": {}
      },
      "source": [
        "# arraay final_result to dataframe\n",
        "# df_final1 = pd.DataFrame(data=final_result1, columns=[\"Employee_ID\", \"Attrition_rate\"])\n",
        "# df_final2 = pd.DataFrame(data=final_result2, columns=[\"Employee_ID\", \"Attrition_rate\"])\n",
        "# df_final3 = pd.DataFrame(data=final_result3, columns=[\"Employee_ID\", \"Attrition_rate\"])\n",
        "# df_final4 = pd.DataFrame(data=final_result4, columns=[\"Employee_ID\", \"Attrition_rate\"])\n",
        "df_final5 = pd.DataFrame(data=final_result5, columns=[\"Employee_ID\", \"Attrition_rate\"])\n",
        "# save the result\n",
        "#df_final.tail()\n",
        "# df_final1.to_csv('submission_1.csv', index=False)\n",
        "# df_final2.to_csv('submission_2.csv', index=False)\n",
        "# df_final3.to_csv('submission_3.csv', index=False)\n",
        "# df_final4.to_csv('submission_4.csv', index=False)\n",
        "df_final5.to_csv('submission_6.csv', index=False)"
      ],
      "execution_count": null,
      "outputs": []
    },
    {
      "cell_type": "code",
      "metadata": {
        "id": "ANaCnFP2F_AR",
        "colab_type": "code",
        "colab": {
          "base_uri": "https://localhost:8080/",
          "height": 17
        },
        "outputId": "41b5de73-238d-4337-bcc0-c4d1eb4ab2ad"
      },
      "source": [
        "from google.colab import files\n",
        "# files.download('submission_1.csv')\n",
        "# files.download('submission_2.csv')\n",
        "# files.download('submission_3.csv')\n",
        "# files.download('submission_4.csv')\n",
        "files.download('submission_6.csv')"
      ],
      "execution_count": null,
      "outputs": [
        {
          "output_type": "display_data",
          "data": {
            "application/javascript": [
              "\n",
              "    async function download(id, filename, size) {\n",
              "      if (!google.colab.kernel.accessAllowed) {\n",
              "        return;\n",
              "      }\n",
              "      const div = document.createElement('div');\n",
              "      const label = document.createElement('label');\n",
              "      label.textContent = `Downloading \"${filename}\": `;\n",
              "      div.appendChild(label);\n",
              "      const progress = document.createElement('progress');\n",
              "      progress.max = size;\n",
              "      div.appendChild(progress);\n",
              "      document.body.appendChild(div);\n",
              "\n",
              "      const buffers = [];\n",
              "      let downloaded = 0;\n",
              "\n",
              "      const channel = await google.colab.kernel.comms.open(id);\n",
              "      // Send a message to notify the kernel that we're ready.\n",
              "      channel.send({})\n",
              "\n",
              "      for await (const message of channel.messages) {\n",
              "        // Send a message to notify the kernel that we're ready.\n",
              "        channel.send({})\n",
              "        if (message.buffers) {\n",
              "          for (const buffer of message.buffers) {\n",
              "            buffers.push(buffer);\n",
              "            downloaded += buffer.byteLength;\n",
              "            progress.value = downloaded;\n",
              "          }\n",
              "        }\n",
              "      }\n",
              "      const blob = new Blob(buffers, {type: 'application/binary'});\n",
              "      const a = document.createElement('a');\n",
              "      a.href = window.URL.createObjectURL(blob);\n",
              "      a.download = filename;\n",
              "      div.appendChild(a);\n",
              "      a.click();\n",
              "      div.remove();\n",
              "    }\n",
              "  "
            ],
            "text/plain": [
              "<IPython.core.display.Javascript object>"
            ]
          },
          "metadata": {
            "tags": []
          }
        },
        {
          "output_type": "display_data",
          "data": {
            "application/javascript": [
              "download(\"download_0e223e38-c9f9-4a98-b7a1-4204ba274233\", \"submission_6.csv\", 88271)"
            ],
            "text/plain": [
              "<IPython.core.display.Javascript object>"
            ]
          },
          "metadata": {
            "tags": []
          }
        }
      ]
    },
    {
      "cell_type": "code",
      "metadata": {
        "id": "BkxsY6W8WW8g",
        "colab_type": "code",
        "colab": {}
      },
      "source": [
        "import xgboost as xgb"
      ],
      "execution_count": null,
      "outputs": []
    },
    {
      "cell_type": "code",
      "metadata": {
        "id": "HZcaPk2IGxjB",
        "colab_type": "code",
        "colab": {}
      },
      "source": [
        "xgb = xgb.XGBRegressor(colsample_bytree=0.4603, gamma=0.0468, \n",
        "                             learning_rate=0.05, max_depth=3, \n",
        "                             min_child_weight=1.7817, n_estimators=2200,\n",
        "                             reg_alpha=0.4640, reg_lambda=0.8571,\n",
        "                             subsample=0.5213, silent=1,\n",
        "                             random_state =7, nthread = -1)"
      ],
      "execution_count": null,
      "outputs": []
    },
    {
      "cell_type": "code",
      "metadata": {
        "id": "rtbbcVjoWYn7",
        "colab_type": "code",
        "colab": {
          "base_uri": "https://localhost:8080/",
          "height": 525
        },
        "outputId": "93ae2a87-3649-4658-fdec-29108dba50b9"
      },
      "source": [
        "xgb.fit(x_torch_train,y_torch_train)"
      ],
      "execution_count": null,
      "outputs": [
        {
          "output_type": "error",
          "ename": "TypeError",
          "evalue": "ignored",
          "traceback": [
            "\u001b[0;31m---------------------------------------------------------------------------\u001b[0m",
            "\u001b[0;31mTypeError\u001b[0m                                 Traceback (most recent call last)",
            "\u001b[0;32m/usr/local/lib/python3.6/dist-packages/scipy/sparse/compressed.py\u001b[0m in \u001b[0;36m__init__\u001b[0;34m(self, arg1, shape, dtype, copy)\u001b[0m\n\u001b[1;32m     82\u001b[0m             \u001b[0;32mtry\u001b[0m\u001b[0;34m:\u001b[0m\u001b[0;34m\u001b[0m\u001b[0;34m\u001b[0m\u001b[0m\n\u001b[0;32m---> 83\u001b[0;31m                 \u001b[0marg1\u001b[0m \u001b[0;34m=\u001b[0m \u001b[0mnp\u001b[0m\u001b[0;34m.\u001b[0m\u001b[0masarray\u001b[0m\u001b[0;34m(\u001b[0m\u001b[0marg1\u001b[0m\u001b[0;34m)\u001b[0m\u001b[0;34m\u001b[0m\u001b[0;34m\u001b[0m\u001b[0m\n\u001b[0m\u001b[1;32m     84\u001b[0m             \u001b[0;32mexcept\u001b[0m \u001b[0mException\u001b[0m\u001b[0;34m:\u001b[0m\u001b[0;34m\u001b[0m\u001b[0;34m\u001b[0m\u001b[0m\n",
            "\u001b[0;32m/usr/local/lib/python3.6/dist-packages/numpy/core/_asarray.py\u001b[0m in \u001b[0;36masarray\u001b[0;34m(a, dtype, order)\u001b[0m\n\u001b[1;32m     84\u001b[0m     \"\"\"\n\u001b[0;32m---> 85\u001b[0;31m     \u001b[0;32mreturn\u001b[0m \u001b[0marray\u001b[0m\u001b[0;34m(\u001b[0m\u001b[0ma\u001b[0m\u001b[0;34m,\u001b[0m \u001b[0mdtype\u001b[0m\u001b[0;34m,\u001b[0m \u001b[0mcopy\u001b[0m\u001b[0;34m=\u001b[0m\u001b[0;32mFalse\u001b[0m\u001b[0;34m,\u001b[0m \u001b[0morder\u001b[0m\u001b[0;34m=\u001b[0m\u001b[0morder\u001b[0m\u001b[0;34m)\u001b[0m\u001b[0;34m\u001b[0m\u001b[0;34m\u001b[0m\u001b[0m\n\u001b[0m\u001b[1;32m     86\u001b[0m \u001b[0;34m\u001b[0m\u001b[0m\n",
            "\u001b[0;32m/usr/local/lib/python3.6/dist-packages/torch/tensor.py\u001b[0m in \u001b[0;36m__array__\u001b[0;34m(self, dtype)\u001b[0m\n\u001b[1;32m    491\u001b[0m         \u001b[0;32mif\u001b[0m \u001b[0mdtype\u001b[0m \u001b[0;32mis\u001b[0m \u001b[0;32mNone\u001b[0m\u001b[0;34m:\u001b[0m\u001b[0;34m\u001b[0m\u001b[0;34m\u001b[0m\u001b[0m\n\u001b[0;32m--> 492\u001b[0;31m             \u001b[0;32mreturn\u001b[0m \u001b[0mself\u001b[0m\u001b[0;34m.\u001b[0m\u001b[0mnumpy\u001b[0m\u001b[0;34m(\u001b[0m\u001b[0;34m)\u001b[0m\u001b[0;34m\u001b[0m\u001b[0;34m\u001b[0m\u001b[0m\n\u001b[0m\u001b[1;32m    493\u001b[0m         \u001b[0;32melse\u001b[0m\u001b[0;34m:\u001b[0m\u001b[0;34m\u001b[0m\u001b[0;34m\u001b[0m\u001b[0m\n",
            "\u001b[0;31mTypeError\u001b[0m: can't convert cuda:0 device type tensor to numpy. Use Tensor.cpu() to copy the tensor to host memory first.",
            "\nDuring handling of the above exception, another exception occurred:\n",
            "\u001b[0;31mValueError\u001b[0m                                Traceback (most recent call last)",
            "\u001b[0;32m/usr/local/lib/python3.6/dist-packages/xgboost/core.py\u001b[0m in \u001b[0;36m__init__\u001b[0;34m(self, data, label, missing, weight, silent, feature_names, feature_types, nthread)\u001b[0m\n\u001b[1;32m    408\u001b[0m             \u001b[0;32mtry\u001b[0m\u001b[0;34m:\u001b[0m\u001b[0;34m\u001b[0m\u001b[0;34m\u001b[0m\u001b[0m\n\u001b[0;32m--> 409\u001b[0;31m                 \u001b[0mcsr\u001b[0m \u001b[0;34m=\u001b[0m \u001b[0mscipy\u001b[0m\u001b[0;34m.\u001b[0m\u001b[0msparse\u001b[0m\u001b[0;34m.\u001b[0m\u001b[0mcsr_matrix\u001b[0m\u001b[0;34m(\u001b[0m\u001b[0mdata\u001b[0m\u001b[0;34m)\u001b[0m\u001b[0;34m\u001b[0m\u001b[0;34m\u001b[0m\u001b[0m\n\u001b[0m\u001b[1;32m    410\u001b[0m                 \u001b[0mself\u001b[0m\u001b[0;34m.\u001b[0m\u001b[0m_init_from_csr\u001b[0m\u001b[0;34m(\u001b[0m\u001b[0mcsr\u001b[0m\u001b[0;34m)\u001b[0m\u001b[0;34m\u001b[0m\u001b[0;34m\u001b[0m\u001b[0m\n",
            "\u001b[0;32m/usr/local/lib/python3.6/dist-packages/scipy/sparse/compressed.py\u001b[0m in \u001b[0;36m__init__\u001b[0;34m(self, arg1, shape, dtype, copy)\u001b[0m\n\u001b[1;32m     85\u001b[0m                 raise ValueError(\"unrecognized {}_matrix constructor usage\"\n\u001b[0;32m---> 86\u001b[0;31m                                  \"\".format(self.format))\n\u001b[0m\u001b[1;32m     87\u001b[0m             \u001b[0;32mfrom\u001b[0m \u001b[0;34m.\u001b[0m\u001b[0mcoo\u001b[0m \u001b[0;32mimport\u001b[0m \u001b[0mcoo_matrix\u001b[0m\u001b[0;34m\u001b[0m\u001b[0;34m\u001b[0m\u001b[0m\n",
            "\u001b[0;31mValueError\u001b[0m: unrecognized csr_matrix constructor usage",
            "\nDuring handling of the above exception, another exception occurred:\n",
            "\u001b[0;31mTypeError\u001b[0m                                 Traceback (most recent call last)",
            "\u001b[0;32m<ipython-input-286-2073f4bff743>\u001b[0m in \u001b[0;36m<module>\u001b[0;34m()\u001b[0m\n\u001b[0;32m----> 1\u001b[0;31m \u001b[0mxgb\u001b[0m\u001b[0;34m.\u001b[0m\u001b[0mfit\u001b[0m\u001b[0;34m(\u001b[0m\u001b[0mx_torch_train\u001b[0m\u001b[0;34m.\u001b[0m\u001b[0mfloat\u001b[0m\u001b[0;34m(\u001b[0m\u001b[0;34m)\u001b[0m\u001b[0;34m,\u001b[0m\u001b[0my_torch_val\u001b[0m\u001b[0;34m.\u001b[0m\u001b[0mfloat\u001b[0m\u001b[0;34m(\u001b[0m\u001b[0;34m)\u001b[0m\u001b[0;34m)\u001b[0m\u001b[0;34m\u001b[0m\u001b[0;34m\u001b[0m\u001b[0m\n\u001b[0m",
            "\u001b[0;32m/usr/local/lib/python3.6/dist-packages/xgboost/sklearn.py\u001b[0m in \u001b[0;36mfit\u001b[0;34m(self, X, y, sample_weight, eval_set, eval_metric, early_stopping_rounds, verbose, xgb_model, sample_weight_eval_set, callbacks)\u001b[0m\n\u001b[1;32m    358\u001b[0m                                    missing=self.missing, nthread=self.n_jobs)\n\u001b[1;32m    359\u001b[0m         \u001b[0;32melse\u001b[0m\u001b[0;34m:\u001b[0m\u001b[0;34m\u001b[0m\u001b[0;34m\u001b[0m\u001b[0m\n\u001b[0;32m--> 360\u001b[0;31m             \u001b[0mtrainDmatrix\u001b[0m \u001b[0;34m=\u001b[0m \u001b[0mDMatrix\u001b[0m\u001b[0;34m(\u001b[0m\u001b[0mX\u001b[0m\u001b[0;34m,\u001b[0m \u001b[0mlabel\u001b[0m\u001b[0;34m=\u001b[0m\u001b[0my\u001b[0m\u001b[0;34m,\u001b[0m \u001b[0mmissing\u001b[0m\u001b[0;34m=\u001b[0m\u001b[0mself\u001b[0m\u001b[0;34m.\u001b[0m\u001b[0mmissing\u001b[0m\u001b[0;34m,\u001b[0m \u001b[0mnthread\u001b[0m\u001b[0;34m=\u001b[0m\u001b[0mself\u001b[0m\u001b[0;34m.\u001b[0m\u001b[0mn_jobs\u001b[0m\u001b[0;34m)\u001b[0m\u001b[0;34m\u001b[0m\u001b[0;34m\u001b[0m\u001b[0m\n\u001b[0m\u001b[1;32m    361\u001b[0m \u001b[0;34m\u001b[0m\u001b[0m\n\u001b[1;32m    362\u001b[0m         \u001b[0mevals_result\u001b[0m \u001b[0;34m=\u001b[0m \u001b[0;34m{\u001b[0m\u001b[0;34m}\u001b[0m\u001b[0;34m\u001b[0m\u001b[0;34m\u001b[0m\u001b[0m\n",
            "\u001b[0;32m/usr/local/lib/python3.6/dist-packages/xgboost/core.py\u001b[0m in \u001b[0;36m__init__\u001b[0;34m(self, data, label, missing, weight, silent, feature_names, feature_types, nthread)\u001b[0m\n\u001b[1;32m    411\u001b[0m             \u001b[0;32mexcept\u001b[0m\u001b[0;34m:\u001b[0m\u001b[0;34m\u001b[0m\u001b[0;34m\u001b[0m\u001b[0m\n\u001b[1;32m    412\u001b[0m                 raise TypeError('can not initialize DMatrix from'\n\u001b[0;32m--> 413\u001b[0;31m                                 ' {}'.format(type(data).__name__))\n\u001b[0m\u001b[1;32m    414\u001b[0m \u001b[0;34m\u001b[0m\u001b[0m\n\u001b[1;32m    415\u001b[0m         \u001b[0;32mif\u001b[0m \u001b[0mlabel\u001b[0m \u001b[0;32mis\u001b[0m \u001b[0;32mnot\u001b[0m \u001b[0;32mNone\u001b[0m\u001b[0;34m:\u001b[0m\u001b[0;34m\u001b[0m\u001b[0;34m\u001b[0m\u001b[0m\n",
            "\u001b[0;31mTypeError\u001b[0m: can not initialize DMatrix from Tensor"
          ]
        }
      ]
    },
    {
      "cell_type": "code",
      "metadata": {
        "id": "Luuekfa1W6Ab",
        "colab_type": "code",
        "colab": {}
      },
      "source": [
        ""
      ],
      "execution_count": null,
      "outputs": []
    }
  ]
}